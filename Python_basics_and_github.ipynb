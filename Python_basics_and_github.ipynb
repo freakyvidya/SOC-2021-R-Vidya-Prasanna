{
  "nbformat": 4,
  "nbformat_minor": 5,
  "metadata": {
    "kernelspec": {
      "display_name": "Python 3",
      "language": "python",
      "name": "python3"
    },
    "language_info": {
      "codemirror_mode": {
        "name": "ipython",
        "version": 3
      },
      "file_extension": ".py",
      "mimetype": "text/x-python",
      "name": "python",
      "nbconvert_exporter": "python",
      "pygments_lexer": "ipython3",
      "version": "3.9.1"
    },
    "colab": {
      "name": "Assignment1-_Github_and_Python.ipynb",
      "provenance": []
    }
  },
  "cells": [
    {
      "cell_type": "markdown",
      "metadata": {
        "id": "miniature-capability"
      },
      "source": [
        "I hope by now, you have installed Python and Jupyter Notebook and now know some basic shorcuts to work with it, if not look at the documentation-https://jupyter-notebook.readthedocs.io/en/stable/. \n",
        "\n",
        "We will next look at version controlling and some hands on tasks on python. For version controlling we will use a free open-source version control software Git. "
      ],
      "id": "miniature-capability"
    },
    {
      "cell_type": "markdown",
      "metadata": {
        "id": "controversial-cinema"
      },
      "source": [
        "To install git follow https://git-scm.com/book/en/v2/Getting-Started-Installing-Git. After that create an account on Github which is a version control platform that uses git."
      ],
      "id": "controversial-cinema"
    },
    {
      "cell_type": "markdown",
      "metadata": {
        "id": "subjective-integrity"
      },
      "source": [
        "After you are done, fire your terminal and setup git on your local system. \n",
        "```\n",
        "git config --global user.name \"John Doe\"\n",
        "git config --global user.email johndoe@example.com\n",
        "```\n",
        "\n"
      ],
      "id": "subjective-integrity"
    },
    {
      "cell_type": "markdown",
      "metadata": {
        "id": "technological-technical"
      },
      "source": [
        "Now go to Github and create a repository. Get that repository to your local system. Hint- search ```git clone``` and learn about it. After creating a repository and cloning it into your local system, we will commit and push this file into the repository. So move this notebook to the cloned repo and then search how to commit and push into github repository. \n",
        "\n",
        "```Hint : git add, git status, git commit, git push will be helpful```\n"
      ],
      "id": "technological-technical"
    },
    {
      "cell_type": "markdown",
      "metadata": {
        "id": "statutory-synthesis"
      },
      "source": [
        "Let's get started. So this assignment is a basic assignment on Python3.0 and some basic libraries. Import all the required libraries in the cell below this."
      ],
      "id": "statutory-synthesis"
    },
    {
      "cell_type": "code",
      "metadata": {
        "id": "minute-young"
      },
      "source": [
        import numpy as np
        import time
        import cv2
        import matplotlib.pyplot as plt
        import cv2
        
      ],
      "id": "minute-young",
      "execution_count": null,
      "outputs": []
    },
    {
      "cell_type": "markdown",
      "metadata": {
        "id": "ethical-residence"
      },
      "source": [
        "Your first task is very simple. Create a string to store your name and then append your favorite number to it. If you don't know how to get started with python basic commands, search for w3school python tutorial and have a look at them."
      ],
      "id": "ethical-residence"
    },
    {
      "cell_type": "code",
      "metadata": {
        "id": "frank-mouth"
      },
      "source": [
        "#your code here"
      ],
      "id": "frank-mouth",
      "execution_count": null,
      "outputs": []
    },
    {
      "cell_type": "markdown",
      "metadata": {
        "id": "analyzed-rescue"
      },
      "source": [
        "Implement a python function Mult(X,Y) that takes input 2 matrices X and Y and calculates their product (Use brute force looping method)."
      ],
      "id": "analyzed-rescue"
    },
    {
      "cell_type": "code",
      "metadata": {
        "id": "romance-malta"
      },
      "source": [
        "#your code here"
      ],
      "id": "romance-malta",
      "execution_count": null,
      "outputs": []
    },
    {
      "cell_type": "markdown",
      "metadata": {
        "id": "encouraging-curtis"
      },
      "source": [
        "Create a square matrix of size 100X100 with random values from 0 to 1 using numpy(you have to import numpy at this stage) and multiply it with itself with the help of Mult(X,Y) function. Use time module to measure how long the multiplication takes. If you are stuck and don't know how to use and install new library/module Google about it."
      ],
      "id": "encouraging-curtis"
    },
    {
      "cell_type": "code",
      "metadata": {
        "id": "higher-baseball"
      },
      "source": [
        "#your code here"
      ],
      "id": "higher-baseball",
      "execution_count": null,
      "outputs": []
    },
    {
      "cell_type": "markdown",
      "metadata": {
        "id": "controversial-henry"
      },
      "source": [
        "Now search how to multiply two numpy arrays using a numpy utility function. dot() will be helpful. Similary measure the time that numpy takes to make this multiplication and compare it with above. "
      ],
      "id": "controversial-henry"
    },
    {
      "cell_type": "code",
      "metadata": {
        "id": "sporting-purple"
      },
      "source": [
        "#your code here"
      ],
      "id": "sporting-purple",
      "execution_count": null,
      "outputs": []
    },
    {
      "cell_type": "markdown",
      "metadata": {
        "id": "ranging-department"
      },
      "source": [
        "It's now time to save and make a commit, similar to above and push the current state to github. Again same set of commands.\n",
        "\n",
        "Now you want to use your roll number instead of your name in the very first task. Go ahead and do it and make a commit, don't push it this time. Now you think that your identity should not be limited to a number, so you want to again revert back, but you want to do so without changing the code. Git has your back here. Google how to rever a commit and go back to your initial state. Hint- https://opensource.com/article/18/6/git-reset-revert-rebase-commands\n"
      ],
      "id": "ranging-department"
    },
    {
      "cell_type": "markdown",
      "metadata": {
        "id": "outer-alabama"
      },
      "source": [
        "Let's march ahead with python. We will use import an image(you can use any image, get it to your directory and start working). Google how to import an image in python(Search about OpenCV/PIL library). Convert the image into grayscale and show the image.(to show you can use cv2 and also you can use matplotlib, Google both the methods)"
      ],
      "id": "outer-alabama"
    },
    {
      "cell_type": "code",
      "metadata": {
        "id": "noble-scout"
      },
      "source": [
        "#your code here"
      ],
      "id": "noble-scout",
      "execution_count": null,
      "outputs": []
    },
    {
      "cell_type": "markdown",
      "metadata": {
        "id": "supported-motivation"
      },
      "source": [
        "Now we will see git branching in action. So basically let's say you and your friend are working on the same project. One utility git provides that you both can independently work without affecting each other. To do so we create branches. So now create a new branch with branchname as your name and checkout to that branch. Hint - ```git branch``` (I am once again asking you to Google xD) Search about other options for git branch. Now whatever you will implement will be done in your branch and won't affect the entire application."
      ],
      "id": "supported-motivation"
    },
    {
      "cell_type": "markdown",
      "metadata": {
        "id": "monthly-window"
      },
      "source": [
        "So let's do something in your branch. Now crop the image into a new image, to get a new image which is 1/4th the size of the original image.(keep only the topleft portion). Apply a gaussian blur on the cropped image and again print the image to see the effects.\n"
      ],
      "id": "monthly-window"
    },
    {
      "cell_type": "code",
      "metadata": {
        "id": "alone-frederick"
      },
      "source": [
        "#your code here"
      ],
      "id": "alone-frederick",
      "execution_count": null,
      "outputs": []
    },
    {
      "cell_type": "markdown",
      "metadata": {
        "id": "sixth-television"
      },
      "source": [
        "Now calculate the mean and median pixel values of the cropped image. Numpy will come in handy. Now we will do histogramming of the pixels. Search about calcHist function from cv2 library to build the histogram. Now plot the histogram using matplotlib library (don't forget to import it xP)"
      ],
      "id": "sixth-television"
    },
    {
      "cell_type": "code",
      "metadata": {
        "id": "heavy-bulgaria"
      },
      "source": [
        "#your code here"
      ],
      "id": "heavy-bulgaria",
      "execution_count": null,
      "outputs": []
    },
    {
      "cell_type": "markdown",
      "metadata": {
        "id": "danish-swift"
      },
      "source": [
        "So now you have completed working on your cropped Image. That brings you back to commit and push. So here you have to push from your branch only, because you have committed on that branch. Google how to do that. "
      ],
      "id": "danish-swift"
    },
    {
      "cell_type": "markdown",
      "metadata": {
        "id": "attached-batch"
      },
      "source": [
        "Impressed with your work, you finally decided that your work on your branch should be there on the main project(which is the main branch). So you want to merge your branch to main branch. Google how to do that. ```Hint - git merge```. Here do find out about merge conflicts(beleive me you don't want them). Again a merge command is itself a commit, so you have to again push it to github. Now finally we are in the main branch. You can use another utility command ```git log``` to see your entire commit history."
      ],
      "id": "attached-batch"
    },
    {
      "cell_type": "markdown",
      "metadata": {
        "id": "allied-asthma"
      },
      "source": [
        "Let's now do some so called \"cool\" stuff with the image to realise the chadness of python libraries. In the original image(not the cropped one) we will do edge detection(we will use canny edge detection method which is a common method). Surprisingly openCV handles it very easily. To know how - https://docs.opencv.org/master/da/d22/tutorial_py_canny.html ."
      ],
      "id": "allied-asthma"
    },
    {
      "cell_type": "code",
      "metadata": {
        "id": "intellectual-patio"
      },
      "source": [
        "#your code here"
      ],
      "id": "intellectual-patio",
      "execution_count": null,
      "outputs": []
    },
    {
      "cell_type": "markdown",
      "metadata": {
        "id": "lesser-somewhere"
      },
      "source": [
        "It's done ? Not yet. This exercise was just to get you familiar with python libraries and give an introduction to python. There are literally infite number of utility libraries and functions that have been built for python users. You can even publish your own library for the open-source community(how? - https://realpython.com/pypi-publish-python-package/). But one flaw of python is that it is still quite slow, Julia is an upcoming similar nascent language which performs better with this regard, do Google about it)"
      ],
      "id": "lesser-somewhere"
    },
    {
      "cell_type": "markdown",
      "metadata": {
        "id": "weighted-omega"
      },
      "source": [
        "NOTE - IF YOU HAVE ANY DOUBTS REGARDING ASSIGNMENTS/COURSES, FEEL FREE TO ASK/HELP YOUR COMENTEES (preferably) AND MENTORS. WE WOULD LOVE TO WORK IN A COLLABORATIVE WAY."
      ],
      "id": "weighted-omega"
    }
  ]
}
